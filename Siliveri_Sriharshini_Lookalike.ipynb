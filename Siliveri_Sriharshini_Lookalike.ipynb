{
  "nbformat": 4,
  "nbformat_minor": 0,
  "metadata": {
    "colab": {
      "provenance": []
    },
    "kernelspec": {
      "name": "python3",
      "display_name": "Python 3"
    },
    "language_info": {
      "name": "python"
    }
  },
  "cells": [
    {
      "cell_type": "code",
      "source": [
        "import pandas as pd\n",
        "from sklearn.preprocessing import StandardScaler\n",
        "\n",
        "# Load datasets\n",
        "customers = pd.read_csv('Customers.csv')\n",
        "products = pd.read_csv('Products.csv')\n",
        "transactions = pd.read_csv('Transactions.csv')\n",
        "\n",
        "# Merge datasets\n",
        "data = transactions.merge(customers, on='CustomerID').merge(products, on='ProductID')\n",
        "\n",
        "# Rename 'Price_y' to 'Price' and drop 'Price_x' if needed\n",
        "data.rename(columns={'Price_y': 'Price'}, inplace=True)\n",
        "data.drop(columns=['Price_x'], inplace=True)\n",
        "\n",
        "# Verify the updated columns\n",
        "print(data.columns)\n",
        "\n",
        "\n",
        "# Feature engineering: Aggregate data at the customer level\n",
        "customer_features = data.groupby('CustomerID').agg({\n",
        "    'TotalValue': 'sum',  # Total spending\n",
        "    'TransactionID': 'count',  # Number of transactions\n",
        "    'Price': 'mean',  # Average product price\n",
        "    'Region': lambda x: x.mode()[0],  # Most frequent region\n",
        "    'Category': lambda x: x.mode()[0],  # Most frequent product category\n",
        "}).reset_index()\n",
        "\n",
        "# Convert categorical features to numerical using one-hot encoding\n",
        "customer_features = pd.get_dummies(customer_features, columns=['Region', 'Category'])\n",
        "\n",
        "# Standardize numerical features\n",
        "scaler = StandardScaler()\n",
        "numerical_cols = ['TotalValue', 'TransactionID', 'Price']\n",
        "customer_features[numerical_cols] = scaler.fit_transform(customer_features[numerical_cols])\n",
        "\n",
        "print(customer_features.head())\n"
      ],
      "metadata": {
        "colab": {
          "base_uri": "https://localhost:8080/"
        },
        "id": "GDKZ3jyIDdZI",
        "outputId": "b983815e-cd60-4660-a289-708cc19caa84"
      },
      "execution_count": 6,
      "outputs": [
        {
          "output_type": "stream",
          "name": "stdout",
          "text": [
            "Index(['TransactionID', 'CustomerID', 'ProductID', 'TransactionDate',\n",
            "       'Quantity', 'TotalValue', 'CustomerName', 'Region', 'SignupDate',\n",
            "       'ProductName', 'Category', 'Price'],\n",
            "      dtype='object')\n",
            "  CustomerID  TotalValue  TransactionID     Price  Region_Asia  Region_Europe  \\\n",
            "0      C0001   -0.061701      -0.011458  0.094670        False          False   \n",
            "1      C0002   -0.877744      -0.467494 -0.904016         True          False   \n",
            "2      C0003   -0.405857      -0.467494 -1.094109        False          False   \n",
            "3      C0004    1.032547       1.356650 -0.447702        False          False   \n",
            "4      C0005   -0.783929      -0.923530  0.285581         True          False   \n",
            "\n",
            "   Region_North America  Region_South America  Category_Books  \\\n",
            "0                 False                  True           False   \n",
            "1                 False                 False           False   \n",
            "2                 False                  True           False   \n",
            "3                 False                  True            True   \n",
            "4                 False                 False           False   \n",
            "\n",
            "   Category_Clothing  Category_Electronics  Category_Home Decor  \n",
            "0              False                  True                False  \n",
            "1               True                 False                False  \n",
            "2              False                 False                 True  \n",
            "3              False                 False                False  \n",
            "4              False                  True                False  \n"
          ]
        }
      ]
    },
    {
      "cell_type": "code",
      "source": [
        "from sklearn.metrics.pairwise import cosine_similarity\n",
        "\n",
        "# Compute similarity matrix\n",
        "similarity_matrix = cosine_similarity(customer_features.drop('CustomerID', axis=1))\n",
        "\n",
        "# Convert the similarity matrix to a DataFrame for easier access\n",
        "similarity_df = pd.DataFrame(similarity_matrix, index=customer_features['CustomerID'], columns=customer_features['CustomerID'])\n",
        "\n",
        "# Preview similarity matrix\n",
        "print(similarity_df.head())\n"
      ],
      "metadata": {
        "colab": {
          "base_uri": "https://localhost:8080/"
        },
        "id": "QfC63bah8Mkt",
        "outputId": "f3be4d42-bac2-4236-e4ae-ac6ef6f5608b"
      },
      "execution_count": 7,
      "outputs": [
        {
          "output_type": "stream",
          "name": "stdout",
          "text": [
            "CustomerID     C0001     C0002     C0003     C0004     C0005     C0006  \\\n",
            "CustomerID                                                               \n",
            "C0001       1.000000 -0.009418  0.345240  0.273953  0.406312  0.422097   \n",
            "C0002      -0.009418  1.000000  0.423637 -0.257615  0.506524 -0.269005   \n",
            "C0003       0.345240  0.423637  1.000000  0.102089  0.122719  0.030062   \n",
            "C0004       0.273953 -0.257615  0.102089  1.000000 -0.514452  0.351121   \n",
            "C0005       0.406312  0.506524  0.122719 -0.514452  1.000000  0.105804   \n",
            "\n",
            "CustomerID     C0007     C0008     C0009     C0010  ...     C0191     C0192  \\\n",
            "CustomerID                                          ...                       \n",
            "C0001       0.387376 -0.027575  0.042388 -0.027808  ...  0.502552  0.866113   \n",
            "C0002       0.206259 -0.169922  0.531350  0.750730  ...  0.029068  0.213310   \n",
            "C0003      -0.152739  0.076239  0.136433  0.531577  ...  0.339590  0.408245   \n",
            "C0004      -0.478770  0.605671 -0.570818 -0.154720  ...  0.503359 -0.134963   \n",
            "C0005       0.904111 -0.499281  0.491458  0.150162  ...  0.094960  0.657546   \n",
            "\n",
            "CustomerID     C0193     C0194     C0195     C0196     C0197     C0198  \\\n",
            "CustomerID                                                               \n",
            "C0001       0.004479 -0.023917  0.403909  0.039735  0.354108  0.016558   \n",
            "C0002       0.522814 -0.083312  0.005290 -0.455825  0.450396  0.683940   \n",
            "C0003       0.156814 -0.032857  0.743748 -0.275185  0.391507  0.368238   \n",
            "C0004       0.046725  0.668278  0.596049 -0.117111 -0.407070 -0.557688   \n",
            "C0005       0.558634 -0.340217 -0.267362  0.074519  0.620109  0.481601   \n",
            "\n",
            "CustomerID     C0199     C0200  \n",
            "CustomerID                      \n",
            "C0001       0.419682 -0.004236  \n",
            "C0002       0.359075  0.336368  \n",
            "C0003       0.270232 -0.218824  \n",
            "C0004      -0.343472  0.151384  \n",
            "C0005       0.610405  0.182963  \n",
            "\n",
            "[5 rows x 199 columns]\n"
          ]
        }
      ]
    },
    {
      "cell_type": "code",
      "source": [
        "# Generate lookalike recommendations for the first 20 customers\n",
        "lookalike_results = {}\n",
        "for customer_id in customer_features['CustomerID'][:20]:\n",
        "    similar_customers = similarity_df[customer_id].sort_values(ascending=False)[1:4]  # Exclude self-similarity\n",
        "    lookalike_results[customer_id] = similar_customers.index.tolist(), similar_customers.values.tolist()\n",
        "\n",
        "# Convert results to a DataFrame\n",
        "lookalike_list = []\n",
        "for cust_id, (similar_ids, scores) in lookalike_results.items():\n",
        "    for sim_id, score in zip(similar_ids, scores):\n",
        "        lookalike_list.append({'cust_id': cust_id, 'similar_cust_id': sim_id, 'score': score})\n",
        "\n",
        "lookalike_df = pd.DataFrame(lookalike_list)\n",
        "\n",
        "# Preview results\n",
        "print(lookalike_df.head())\n",
        "\n",
        "# Save recommendations to a CSV file\n",
        "lookalike_df.to_csv('Siliveri_Sriharshini_Lookalike.csv', index=False)\n"
      ],
      "metadata": {
        "colab": {
          "base_uri": "https://localhost:8080/"
        },
        "id": "g3GgBta18P21",
        "outputId": "846c5b6a-672a-4107-c8ca-0db3e5fe6970"
      },
      "execution_count": 9,
      "outputs": [
        {
          "output_type": "stream",
          "name": "stdout",
          "text": [
            "  cust_id similar_cust_id     score\n",
            "0   C0001           C0181  0.943416\n",
            "1   C0001           C0192  0.866113\n",
            "2   C0001           C0190  0.848125\n",
            "3   C0002           C0088  0.959385\n",
            "4   C0002           C0134  0.908392\n"
          ]
        }
      ]
    }
  ]
}